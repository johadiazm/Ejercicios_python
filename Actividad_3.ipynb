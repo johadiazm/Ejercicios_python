{
 "cells": [
  {
   "cell_type": "markdown",
   "metadata": {},
   "source": [
    "En la siguiente celda, completa los siguientes ejercicios:\n",
    "\n",
    "## Ejercicio 1\n",
    "\n",
    "Escribe una clase llamada Numero. Esta clase debe tener una constructora que reciba un número y almacene ese número en 2 atributos: romano que almacenará el número en el formato de número romanos como una cadena de caracteres y normal que guardará el número que nos han dado en la constructora.\n",
    "\n",
    "## Ejercicio 2\n",
    "Crea dos nuevos métodos en la clase Numero. El primer método, llamado imprime() imprime un mensaje mostrando el valor de ambos atributos; el segundo atributo, suma_romano() tendrá como parámetros una cadena de caracteres que representará otro número romano y que sumaremos a los atributos que ya teníamos.\n",
    "\n",
    "## Ejercicio 3\n",
    "\n",
    "Define una función dentro de la clase Numero que a partir de una cadena de caracteres, devuelve True si esa cadena de caracteres corresponde con un número romano y falso en caso contrario. Después, modifica el método para que lance un error en el caso de que el valor que nos pasan por parámetro no se corresponde con el patrón de un número romano"
   ]
  },
  {
   "cell_type": "code",
   "execution_count": null,
   "metadata": {},
   "outputs": [],
   "source": [
    "import re\n",
    "class Numero:\n",
    "    def __init__(self,number):\n",
    "        self.normal=number\n",
    "        self.romano=self.convertir_a_romano(number)\n",
    "    def imprime(self):\n",
    "        return  print(self.normal,self.romano)\n",
    "    def suma_romano(self,romano1):\n",
    "        entero1 = self.romano_a_entero(romano1)\n",
    "        entero2 = self.romano_a_entero(self.romano)\n",
    "        suma = entero1 + entero2\n",
    "        self.romano=self.convertir_a_romano(suma)\n",
    "        return self.romano\n",
    "    def romano_a_entero(self,romano1):\n",
    "        romanos = {'I': 1, 'V': 5, 'X': 10, 'L': 50, 'C': 100, 'D': 500, 'M': 1000}\n",
    "        entero = 0\n",
    "        prev_value = 0\n",
    "        for char in reversed(romano1):\n",
    "           value = romanos[char]\n",
    "           if value < prev_value:\n",
    "               entero -= value\n",
    "           else:\n",
    "                entero += value\n",
    "           prev_value = value\n",
    "\n",
    "        return entero\n",
    "      \n",
    "    def convertir_a_romano(self, numero):\n",
    "        if not (0 < numero < 4000):\n",
    "\n",
    "            raise ValueError(\"El número debe estar entre 1 y 3999\")\n",
    "\n",
    "        valores_romanos = [\n",
    "            (1000, 'M'), (900, 'CM'), (500, 'D'), (400, 'CD'),\n",
    "            (100, 'C'), (90, 'XC'), (50, 'L'), (40, 'XL'),\n",
    "            (10, 'X'), (9, 'IX'), (5, 'V'), (4, 'IV'), (1, 'I')\n",
    "        ]\n",
    "        \n",
    "        romano = \"\"\n",
    "        for valor, simbolo in valores_romanos:\n",
    "            while numero >= valor:\n",
    "                romano += simbolo\n",
    "                numero -= valor\n",
    "        \n",
    "        return romano\n",
    "\n",
    "    def is_romano(self,romano3):\n",
    "      pattern='^M{0,3}(CM|CD|D?C{0,3})(XC|XL|L?X{0,3})(IX|IV|V?I{0,3})$'\n",
    "      if re.match(pattern,romano3):\n",
    "          return \"True\"\n",
    "      else: \n",
    "         return \"False\""
   ]
  },
  {
   "cell_type": "markdown",
   "metadata": {},
   "source": [
    "En la siguiente celda, completa los siguientes ejercicios:\n",
    "\n",
    "## Ejercicio 4\n",
    "\n",
    "Implementa una clase MejorNumero. Esta clase heredará las propiedades de Numero e incluirá dos métodos nuevos para restar y multiplicar los atributos recibiendo por parámetro otro número romano.\n",
    "\n",
    "## Ejercicio 5\n",
    "\n",
    "En la clase MejorNumero, crea un nuevo método que reciba una lista con 3 números romanos. A continuación, iterando sobre los elementos de la lista llamará a la función suma_romano(). Los posibles errores se tendrán que gestionar con excepciones para mostrar un mensaje y seguir ejecutando el siguiente número."
   ]
  },
  {
   "cell_type": "code",
   "execution_count": null,
   "metadata": {},
   "outputs": [],
   "source": [
    "class MejorNumero(Numero):\n",
    "    def resta(self,numromano):\n",
    "        entero1 = self.romano_a_entero(numromano)\n",
    "        entero2 = self.normal\n",
    "        resta = entero2 - entero1\n",
    "        self.romano=self.convertir_a_romano(resta)\n",
    "        if resta < 0:\n",
    "            raise ValueError(\"La resta resulta en un número negativo.\")\n",
    "            self.romano=self.convertir_a_romano(resta)\n",
    "        return self.romano\n",
    "    def multiplica(self,numroman):\n",
    "        entero1 = self.romano_a_entero(numroman)\n",
    "        producto = entero1 * entero1\n",
    "        self.romano=self.convertir_a_romano(producto)\n",
    "        return self.romano\n",
    "    def iterar(self, list):\n",
    "        for romano in list:\n",
    "            try:\n",
    "                resultado = self.suma_romano(romano)\n",
    "            except Exception as e:\n",
    "                print(f\"Ha fallado el número {romano}\")"
   ]
  }
 ],
 "metadata": {
  "kernelspec": {
   "display_name": "Python 3 (ipykernel)",
   "language": "python",
   "name": "python3"
  },
  "language_info": {
   "codemirror_mode": {
    "name": "ipython",
    "version": 3
   },
   "file_extension": ".py",
   "mimetype": "text/x-python",
   "name": "python",
   "nbconvert_exporter": "python",
   "pygments_lexer": "ipython3",
   "version": "3.12.4"
  }
 },
 "nbformat": 4,
 "nbformat_minor": 4
}
