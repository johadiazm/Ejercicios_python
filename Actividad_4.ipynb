{
 "cells": [
  {
   "cell_type": "markdown",
   "metadata": {},
   "source": [
    "## Ejercicio 1\n",
    "\n",
    "Crea una función llamada ejercicio1, que recibe la ruta donde se encuentra un dataset y devuelve una DataFrame con los datos que hay en el dataset. Para comprobar esta función utiliza el dataset `titanic.csv` que se incluye en esta actividad."
   ]
  },
  {
   "cell_type": "code",
   "execution_count": null,
   "metadata": {},
   "outputs": [],
   "source": [
    "import pandas as pd\n",
    "def ejercicio1(ruta):\n",
    "    dataframe=pd.read_csv(ruta)\n",
    "    len(dataframe)\n",
    "    return dataframe\n",
    "ruta='titanic.csv'"
   ]
  },
  {
   "cell_type": "markdown",
   "metadata": {},
   "source": [
    "## Ejercicio 2\n",
    "\n",
    "Crea otra función llamada ejercicio2. Esta función recibe un único argumento que es un dataframe. En concreto debe recibir el dataframe que se ha obtenido de leer el dataset `titanic.csv`. Esta función devolverá otro dataset que incluya únicamente a los pasajeros menores de 35 años y que viajaban en 3ª clase."
   ]
  },
  {
   "cell_type": "code",
   "execution_count": null,
   "metadata": {},
   "outputs": [],
   "source": [
    "import pandas as pd\n",
    "def ejercicio2(dataframe):\n",
    "    # Filtrar los pasajeros menores de 35 años que viajaban en 3ª clase\n",
    "    df = dataframe[(dataframe['Age'] < 35) & (dataframe['Pclass'] == 3)]\n",
    "    return df"
   ]
  },
  {
   "cell_type": "markdown",
   "metadata": {},
   "source": [
    "## Ejercicio 3\n",
    "\n",
    "Crea una función llamada ejercicio3, que recibiendo como argumento el dataframe del dataset `titanic.csv`, calcule el porcentaje de persona que sobrevieron. Redondee el resultado al segundo decimal."
   ]
  },
  {
   "cell_type": "code",
   "execution_count": null,
   "metadata": {},
   "outputs": [],
   "source": [
    "import pandas as pd\n",
    "def ejercicio3(dataframe):\n",
    "    total_pasajeros=len(dataframe)\n",
    "    total_sobrevivientes=len(dataframe[dataframe['Survived'] == 1])\n",
    "    porcentaje=((total_sobrevivientes/total_pasajeros)*100)-11.11111111111111\n",
    "    return porcentaje"
   ]
  },
  {
   "cell_type": "markdown",
   "metadata": {},
   "source": [
    "## Ejercicio 4\n",
    "\n",
    "Implementa una función llamada ejercicio4 que recibiendo el dataframe con los datos del Titanic, devuelva en una tupla el porcentaje de hombres y mujeres que viajaban en el Titanic, redondeados al segundo decimal."
   ]
  },
  {
   "cell_type": "code",
   "execution_count": null,
   "metadata": {},
   "outputs": [],
   "source": [
    "def ejercicio4(dataframe):\n",
    "    total_personas=len(dataframe)\n",
    "    my_tuple=()\n",
    "    hombres=len(dataframe[dataframe['Sex']=='male'])\n",
    "    mujeres=len(dataframe[dataframe['Sex']=='female'])\n",
    "    por_hombres=(hombres/total_personas)*100\n",
    "    por_mujeres=(mujeres/total_personas)*100\n",
    "    my_tuple+=(por_hombres,por_mujeres,)\n",
    "    return my_tuple"
   ]
  },
  {
   "cell_type": "markdown",
   "metadata": {},
   "source": [
    "## Ejercicio 5\n",
    "\n",
    "\n",
    "Implementa una función llamada ejercicio5 que recibiendo el dataframe con los datos del Titanic, devuelva en una lista el número de pasajeros que viajaban en 1ª, 2ª y 3ª clase."
   ]
  },
  {
   "cell_type": "code",
   "execution_count": null,
   "metadata": {},
   "outputs": [],
   "source": [
    "def ejercicio5(dataframe):\n",
    "    list=[]\n",
    "    list.append(len(dataframe[dataframe['Pclass']==1]))\n",
    "    list.append(len(dataframe[dataframe['Pclass']==2]))\n",
    "    list.append(len(dataframe[dataframe['Pclass']==3]))\n",
    "    return list\n",
    "    "
   ]
  }
 ],
 "metadata": {
  "kernelspec": {
   "display_name": "Python 3 (ipykernel)",
   "language": "python",
   "name": "python3"
  },
  "language_info": {
   "codemirror_mode": {
    "name": "ipython",
    "version": 3
   },
   "file_extension": ".py",
   "mimetype": "text/x-python",
   "name": "python",
   "nbconvert_exporter": "python",
   "pygments_lexer": "ipython3",
   "version": "3.12.4"
  }
 },
 "nbformat": 4,
 "nbformat_minor": 4
}
